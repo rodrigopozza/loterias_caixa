{
  "cells": [
    {
      "cell_type": "markdown",
      "metadata": {
        "id": "view-in-github",
        "colab_type": "text"
      },
      "source": [
        "<a href=\"https://colab.research.google.com/github/rodrigopozza/loterias_caixa/blob/main/loterias_caixa.ipynb\" target=\"_parent\"><img src=\"https://colab.research.google.com/assets/colab-badge.svg\" alt=\"Open In Colab\"/></a>"
      ]
    },
    {
      "cell_type": "markdown",
      "metadata": {
        "id": "1OVvqBUB7E9j"
      },
      "source": [
        "mega-sena"
      ]
    },
    {
      "cell_type": "code",
      "execution_count": null,
      "metadata": {
        "colab": {
          "base_uri": "https://localhost:8080/"
        },
        "id": "eO315fAu7Gdz",
        "outputId": "d4db8953-aee2-4f2e-e7a1-e006b40430bc"
      },
      "outputs": [
        {
          "output_type": "stream",
          "name": "stdout",
          "text": [
            "\n",
            "Sorteio de 6 dezenas únicas Mega-Sena : 03 - 09 - 27 - 41 - 51 - 59\n",
            "\n",
            "Sorteio de 6 dezenas únicas +Milionária: 09 - 15 - 22 - 32 - 33 - 40, Trevos sorteados: 03 - 04\n"
          ]
        }
      ],
      "source": [
        "import random\n",
        "\n",
        "dezenas = ['01', '02', '03', '04', '05', '06', '07', '08', '09', '10',\n",
        "           '11', '12', '13', '14', '15', '16', '17', '18', '19', '20',\n",
        "           '21', '22', '23', '24', '25', '26', '27', '28', '29', '30',\n",
        "           '31', '32', '33', '34', '35', '36', '37', '38', '39', '40',\n",
        "           '41', '42', '43', '44', '45', '46', '47', '48', '49', '50',\n",
        "           '51', '52', '53', '54', '55', '56', '57', '58', '59', '60',]\n",
        "\n",
        "\n",
        "sorteio_mega = sorted(random.sample(dezenas, 6))\n",
        "\n",
        "# AQUI: Usando .join('- ') para remover [] e ' ' e separar por vírgula e espaço\n",
        "print(f\"\\nSorteio de 6 dezenas únicas Mega-Sena : {' - '.join(sorteio_mega)}\")\n",
        "\n",
        "\n",
        "dezenas2 = [\"01\", \"02\", \"03\", \"04\", \"05\", \"06\", \"07\", \"08\", \"09\", \"10\",\n",
        "           \"11\", \"12\", \"13\", \"14\", \"15\", \"16\", \"17\", \"18\", \"19\", \"20\",\n",
        "           \"21\", \"22\", \"23\", \"24\", \"25\", \"26\", \"27\", \"28\", \"29\", \"30\",\n",
        "           \"31\", \"32\", \"33\", \"34\", \"35\", \"36\", \"37\", \"38\", \"39\", \"40\",\n",
        "           \"41\", \"42\", \"43\", \"44\", \"45\", \"46\", \"47\", \"48\", \"49\", \"50\"]\n",
        "\n",
        "sorteio_mais = sorted(random.sample(dezenas2, 6))\n",
        "\n",
        "\n",
        "TREVOS = [\"01\", \"02\", \"03\", \"04\", \"05\", \"06\"]\n",
        "\n",
        "sorteio_trevos = sorted(random.sample(TREVOS, 2))\n",
        "\n",
        "\n",
        "# AQUI: Usando .join('-') e .join('-') para formatar a saída\n",
        "sorteio_mais_formatado = ' - '.join(sorteio_mais)\n",
        "sorteio_trevos_formatado = ' - '.join(sorteio_trevos)\n",
        "\n",
        "print(f\"\\nSorteio de 6 dezenas únicas +Milionária: {sorteio_mais_formatado}, Trevos sorteados: {sorteio_trevos_formatado}\")"
      ]
    }
  ],
  "metadata": {
    "colab": {
      "provenance": [],
      "authorship_tag": "ABX9TyNRJMg2V20oYgdNPeVNipAY",
      "include_colab_link": true
    },
    "kernelspec": {
      "display_name": "Python 3",
      "name": "python3"
    },
    "language_info": {
      "name": "python"
    }
  },
  "nbformat": 4,
  "nbformat_minor": 0
}