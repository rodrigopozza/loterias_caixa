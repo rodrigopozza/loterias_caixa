{
  "cells": [
    {
      "cell_type": "markdown",
      "metadata": {
        "id": "view-in-github",
        "colab_type": "text"
      },
      "source": [
        "<a href=\"https://colab.research.google.com/github/rodrigopozza/loterias_caixa/blob/main/Loterias_Caixa_Supresinhas.ipynb\" target=\"_parent\"><img src=\"https://colab.research.google.com/assets/colab-badge.svg\" alt=\"Open In Colab\"/></a>"
      ]
    },
    {
      "cell_type": "markdown",
      "metadata": {
        "id": "1OVvqBUB7E9j"
      },
      "source": [
        "Mega-Sena, +Milhonária e Timemania"
      ]
    },
    {
      "cell_type": "code",
      "execution_count": null,
      "metadata": {
        "colab": {
          "base_uri": "https://localhost:8080/"
        },
        "id": "eO315fAu7Gdz",
        "outputId": "e6e074f0-46a0-4e2c-9aa4-cc709cf6a2f6"
      },
      "outputs": [
        {
          "output_type": "stream",
          "name": "stdout",
          "text": [
            "\n",
            "Sorteio de 6 dezenas únicas Mega-Sena : 01 - 04 - 08 - 21 - 32 - 33\n",
            "\n",
            "Sorteio de 6 dezenas únicas +Milionária: 10 - 17 - 32 - 35 - 44 - 50, Trevos sorteados: 01 - 02\n",
            "\n",
            "Sorteio de 10 dezenas únicas para Timemania: 26 - 32 - 44 - 46 - 53 - 58 - 67 - 70 - 71 - 80, Time sorteado:  Atlético Clube Goianiense (GO)\n",
            "\n",
            "Sorteio de 5 dezenas únicas para Quina: 18 - 26 - 27 - 48 - 80\n"
          ]
        }
      ],
      "source": [
        "import random\n",
        "import matplotlib\n",
        "\n",
        "dezenas = ['01', '02', '03', '04', '05', '06', '07', '08', '09', '10',\n",
        "           '11', '12', '13', '14', '15', '16', '17', '18', '19', '20',\n",
        "           '21', '22', '23', '24', '25', '26', '27', '28', '29', '30',\n",
        "           '31', '32', '33', '34', '35', '36', '37', '38', '39', '40',\n",
        "           '41', '42', '43', '44', '45', '46', '47', '48', '49', '50',\n",
        "           '51', '52', '53', '54', '55', '56', '57', '58', '59', '60']\n",
        "\n",
        "\n",
        "sorteio_mega = sorted(random.sample(dezenas, 6))\n",
        "\n",
        "# AQUI: Usando .join('- ') para remover [] e ' ' e separar por vírgula e espaço\n",
        "print(f\"\\nSorteio de 6 dezenas únicas Mega-Sena : {' - '.join(sorteio_mega)}\")\n",
        "\n",
        "\n",
        "dezenas2 = [\"01\", \"02\", \"03\", \"04\", \"05\", \"06\", \"07\", \"08\", \"09\", \"10\",\n",
        "           \"11\", \"12\", \"13\", \"14\", \"15\", \"16\", \"17\", \"18\", \"19\", \"20\",\n",
        "           \"21\", \"22\", \"23\", \"24\", \"25\", \"26\", \"27\", \"28\", \"29\", \"30\",\n",
        "           \"31\", \"32\", \"33\", \"34\", \"35\", \"36\", \"37\", \"38\", \"39\", \"40\",\n",
        "           \"41\", \"42\", \"43\", \"44\", \"45\", \"46\", \"47\", \"48\", \"49\", \"50\"]\n",
        "\n",
        "sorteio_mais = sorted(random.sample(dezenas2, 6))\n",
        "\n",
        "\n",
        "TREVOS = [\"01\", \"02\", \"03\", \"04\", \"05\", \"06\"]\n",
        "\n",
        "sorteio_trevos = sorted(random.sample(TREVOS, 2))\n",
        "\n",
        "\n",
        "# AQUI: Usando .join('-') e .join('-') para formatar a saída\n",
        "sorteio_mais_formatado = ' - '.join(sorteio_mais)\n",
        "sorteio_trevos_formatado = ' - '.join(sorteio_trevos)\n",
        "\n",
        "\n",
        "print(f\"\\nSorteio de 6 dezenas únicas +Milionária: {sorteio_mais_formatado}, Trevos sorteados: {sorteio_trevos_formatado}\")\n",
        "\n",
        "dezenas3 = ['01', '02', '03', '04', '05', '06', '07', '08', '09', '10',\n",
        "           '11', '12', '13', '14', '15', '16', '17', '18', '19', '20',\n",
        "           '21', '22', '23', '24', '25', '26', '27', '28', '29', '30',\n",
        "           '31', '32', '33', '34', '35', '36', '37', '38', '39', '40',\n",
        "           '41', '42', '43', '44', '45', '46', '47', '48', '49', '50',\n",
        "           '51', '52', '53', '54', '55', '56', '57', '58', '59', '60',\n",
        "            '61', '62', '63', '64', '65', '66', '67', '68', '69', '70',\n",
        "            '71', '72', '73', '74', '75', '76', '77', '78', '79', '80']\n",
        "\n",
        "\n",
        "TIMES = ['América Futebol Clube (MG)',' Atlético Clube Goianiense (GO)',\n",
        "' Atlético Mineiro Futebol Clube (MG)',' Avaí Futebol Clube (SC)',\n",
        "         ' Botafogo de Futebol e Regatas (RJ)',' Ceará Sporting Clube (CE)',\n",
        "         ' Clube Atlético Bragantino (SP)',' Clube Atlético Paranaense (PR)',\n",
        "         ' Clube de Regatas Flamengo (RJ)',' Coritiba Foot Ball Club (PR)',\n",
        "         ' Cuiabá Esporte Clube (MT)',' Esporte Clube Juventude (RS)',\n",
        "         ' Fluminense Football Club (RJ)',' Fortaleza Esporte Clube (CE)',\n",
        "         ' Goiás Esporte Clube (GO)',' Santos Futebol Clube (SP)',\n",
        "         ' São Paulo Futebol Clube (SP)',' Sociedade Esportiva Palmeiras (SP)',\n",
        "'Sport Club Corinthians Paulista (SP)','Sport Club Internacional (RS)']\n",
        "\n",
        "sorteio_time = sorted(random.sample(dezenas3, 10))\n",
        "\n",
        "sorteio_time2 = sorted(random.sample(TIMES, 1))\n",
        "\n",
        "sorteio_time_formatado =' - '.join(sorteio_time)\n",
        "sorteio_time2_formatado =' - '.join(sorteio_time2)\n",
        "\n",
        "print(f\"\\nSorteio de 10 dezenas únicas para Timemania: {sorteio_time_formatado}, Time sorteado: {sorteio_time2_formatado}\" )\n",
        "\n",
        "\n",
        "dezenas4 = ['01', '02', '03', '04', '05', '06', '07', '08', '09', '10',\n",
        "           '11', '12', '13', '14', '15', '16', '17', '18', '19', '20',\n",
        "           '21', '22', '23', '24', '25', '26', '27', '28', '29', '30',\n",
        "           '31', '32', '33', '34', '35', '36', '37', '38', '39', '40',\n",
        "           '41', '42', '43', '44', '45', '46', '47', '48', '49', '50',\n",
        "           '51', '52', '53', '54', '55', '56', '57', '58', '59', '60',\n",
        "            '61', '62', '63', '64', '65', '66', '67', '68', '69', '70',\n",
        "            '71', '72', '73', '74', '75', '76', '77', '78', '79', '80']\n",
        "\n",
        "sorteio_quina = sorted(random.sample(dezenas4, 5))\n",
        "sorteio_quina_formatado = ' - '.join(sorteio_quina)\n",
        "\n",
        "print(f\"\\nSorteio de 5 dezenas únicas para Quina: {sorteio_quina_formatado}\")\n"
      ]
    }
  ],
  "metadata": {
    "colab": {
      "provenance": [],
      "authorship_tag": "ABX9TyOFV0mtNlZKD4YRk7HMb9w3",
      "include_colab_link": true
    },
    "kernelspec": {
      "display_name": "Python 3",
      "name": "python3"
    },
    "language_info": {
      "name": "python"
    }
  },
  "nbformat": 4,
  "nbformat_minor": 0
}